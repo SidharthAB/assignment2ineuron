{
 "cells": [
  {
   "cell_type": "markdown",
   "id": "7dfaad48",
   "metadata": {},
   "source": [
    "Question 1"
   ]
  },
  {
   "cell_type": "markdown",
   "id": "00e91d67",
   "metadata": {},
   "source": [
    "The boolean data type can have 2  values they are \"True\" and \"False\".\n",
    "We can write them using the bool function, it returns true or false as an output"
   ]
  },
  {
   "cell_type": "code",
   "execution_count": 2,
   "id": "a07d0dab",
   "metadata": {},
   "outputs": [
    {
     "data": {
      "text/plain": [
       "True"
      ]
     },
     "execution_count": 2,
     "metadata": {},
     "output_type": "execute_result"
    }
   ],
   "source": [
    "#example\n",
    "a=0\n",
    "bool(a==0)"
   ]
  },
  {
   "cell_type": "markdown",
   "id": "242da407",
   "metadata": {},
   "source": [
    "Question 2"
   ]
  },
  {
   "cell_type": "markdown",
   "id": "aafa1c35",
   "metadata": {},
   "source": [
    "The 3 different types of boolean operators are AND,OR,NOT"
   ]
  },
  {
   "cell_type": "markdown",
   "id": "bcdce76e",
   "metadata": {},
   "source": [
    "Question 3"
   ]
  },
  {
   "cell_type": "code",
   "execution_count": 3,
   "id": "9e065454",
   "metadata": {},
   "outputs": [
    {
     "data": {
      "text/plain": [
       "[False, False, False, True]"
      ]
     },
     "execution_count": 3,
     "metadata": {},
     "output_type": "execute_result"
    }
   ],
   "source": [
    "#AND operator\n",
    "a = [False and False,False and True,True and False,True and True]\n",
    "a"
   ]
  },
  {
   "cell_type": "code",
   "execution_count": 4,
   "id": "8db6e340",
   "metadata": {},
   "outputs": [
    {
     "data": {
      "text/plain": [
       "[False, True, True, True]"
      ]
     },
     "execution_count": 4,
     "metadata": {},
     "output_type": "execute_result"
    }
   ],
   "source": [
    "#OR operator\n",
    "a = [False or False,False or True,True or False,True or True]\n",
    "a"
   ]
  },
  {
   "cell_type": "code",
   "execution_count": 5,
   "id": "145321ef",
   "metadata": {},
   "outputs": [
    {
     "data": {
      "text/plain": [
       "[True, False]"
      ]
     },
     "execution_count": 5,
     "metadata": {},
     "output_type": "execute_result"
    }
   ],
   "source": [
    "#NOT operator\n",
    "a = [not False,not True]\n",
    "a"
   ]
  },
  {
   "cell_type": "markdown",
   "id": "51549260",
   "metadata": {},
   "source": [
    "Question 4"
   ]
  },
  {
   "cell_type": "code",
   "execution_count": 6,
   "id": "c5c947c3",
   "metadata": {},
   "outputs": [
    {
     "data": {
      "text/plain": [
       "False"
      ]
     },
     "execution_count": 6,
     "metadata": {},
     "output_type": "execute_result"
    }
   ],
   "source": [
    "(5 > 4) and (3 == 5)"
   ]
  },
  {
   "cell_type": "code",
   "execution_count": 7,
   "id": "ad3697c9",
   "metadata": {},
   "outputs": [
    {
     "data": {
      "text/plain": [
       "False"
      ]
     },
     "execution_count": 7,
     "metadata": {},
     "output_type": "execute_result"
    }
   ],
   "source": [
    "not (5 > 4)"
   ]
  },
  {
   "cell_type": "code",
   "execution_count": 8,
   "id": "b3b151fa",
   "metadata": {},
   "outputs": [
    {
     "data": {
      "text/plain": [
       "True"
      ]
     },
     "execution_count": 8,
     "metadata": {},
     "output_type": "execute_result"
    }
   ],
   "source": [
    "(5 > 4) or (3 == 5)"
   ]
  },
  {
   "cell_type": "code",
   "execution_count": 9,
   "id": "eafec8df",
   "metadata": {},
   "outputs": [
    {
     "data": {
      "text/plain": [
       "False"
      ]
     },
     "execution_count": 9,
     "metadata": {},
     "output_type": "execute_result"
    }
   ],
   "source": [
    "not ((5 > 4) or (3 == 5))"
   ]
  },
  {
   "cell_type": "code",
   "execution_count": 10,
   "id": "1f68e5b7",
   "metadata": {},
   "outputs": [
    {
     "data": {
      "text/plain": [
       "False"
      ]
     },
     "execution_count": 10,
     "metadata": {},
     "output_type": "execute_result"
    }
   ],
   "source": [
    "(True and True) and (True == False)"
   ]
  },
  {
   "cell_type": "code",
   "execution_count": 11,
   "id": "54fd8942",
   "metadata": {},
   "outputs": [
    {
     "data": {
      "text/plain": [
       "True"
      ]
     },
     "execution_count": 11,
     "metadata": {},
     "output_type": "execute_result"
    }
   ],
   "source": [
    "(not False) or (not True)"
   ]
  },
  {
   "cell_type": "markdown",
   "id": "b84862b2",
   "metadata": {},
   "source": [
    "Question 5"
   ]
  },
  {
   "cell_type": "raw",
   "id": "63954891",
   "metadata": {},
   "source": [
    "The 6 comparison operators are\n",
    "1. > (greater than)\n",
    "2. < (less than)\n",
    "3. == (equal to)\n",
    "4. != (not equal to)\n",
    "5. <= (less than or equal to)\n",
    "6. >= (greater than or equal to)"
   ]
  },
  {
   "cell_type": "markdown",
   "id": "2d6ecf2f",
   "metadata": {},
   "source": [
    "Question 6"
   ]
  },
  {
   "cell_type": "markdown",
   "id": "0915bb8f",
   "metadata": {},
   "source": [
    "Equal to (==) - it is used as comparator, it returns true if 2 values are the same, for example if we need to compare 2 numbers\n",
    "we can compare using == operator and it returns true if they are same else false\n"
   ]
  },
  {
   "cell_type": "markdown",
   "id": "cf4fc225",
   "metadata": {},
   "source": [
    "Assignment (=) - it is used to assign value, if we assign a value to a variable ,eg a = 20 ,then the variable a holds the value \n",
    "20, until we alter it , and this can be used through out the program\n"
   ]
  },
  {
   "cell_type": "markdown",
   "id": "f731d5cb",
   "metadata": {},
   "source": [
    "Question 7"
   ]
  },
  {
   "cell_type": "code",
   "execution_count": 12,
   "id": "b07aa26b",
   "metadata": {},
   "outputs": [
    {
     "name": "stdout",
     "output_type": "stream",
     "text": [
      "spam\n"
     ]
    }
   ],
   "source": [
    "spam = 0 \n",
    "if spam == 10: #block 1 >>>>>> 1\n",
    "    print('eggs')\n",
    "    if spam > 5: #block 2 >>>>>> 2\n",
    "        print('bacon') \n",
    "    else: #block 3 >>>>>>> 3\n",
    "        print('ham')\n",
    "    print('spam')\n",
    "print('spam')"
   ]
  },
  {
   "cell_type": "markdown",
   "id": "51e4c1bd",
   "metadata": {},
   "source": [
    "Question 8"
   ]
  },
  {
   "cell_type": "code",
   "execution_count": 13,
   "id": "9b909ae6",
   "metadata": {},
   "outputs": [
    {
     "name": "stdout",
     "output_type": "stream",
     "text": [
      "Greetings!\n"
     ]
    }
   ],
   "source": [
    "spam = 0\n",
    "if spam == 1:\n",
    "    print('Hello')\n",
    "elif spam == 2:\n",
    "    print('Howdy')\n",
    "else:\n",
    "    print('Greetings!')"
   ]
  },
  {
   "cell_type": "markdown",
   "id": "26a6b152",
   "metadata": {},
   "source": [
    "Question 9"
   ]
  },
  {
   "cell_type": "markdown",
   "id": "9005a061",
   "metadata": {},
   "source": [
    "We can interrupt a infinite loop by using Control + C"
   ]
  },
  {
   "cell_type": "markdown",
   "id": "4f1d0c4f",
   "metadata": {},
   "source": [
    "Question 10"
   ]
  },
  {
   "cell_type": "markdown",
   "id": "4f4f4117",
   "metadata": {},
   "source": [
    "1. Break statement is used in the program to exit from the current loop\n",
    "\n",
    "2. Continue is used in the loop such that, during continue statement it will skip to the next iteration., it wont exit the \n",
    "current loop"
   ]
  },
  {
   "cell_type": "markdown",
   "id": "bbfdc9ce",
   "metadata": {},
   "source": [
    "Question 11"
   ]
  },
  {
   "cell_type": "markdown",
   "id": "4300c224",
   "metadata": {},
   "source": [
    "1. In range(10) - 10 numbers from 0 to 9 will be shown,as 0 is taken as default 1st value.\n",
    "2. In range(0,10) - Here the starting number is 0 given, and numbers between 0 and 10 will be included ie 0-9\n",
    "3. In range(0,10,1) - Numbers between 0 and 10 is taken and the difference between the numbers is given as 1, if it was given \n",
    "2 it will give all the even numbers in the set\n",
    "\n"
   ]
  },
  {
   "cell_type": "markdown",
   "id": "d2e2ce00",
   "metadata": {},
   "source": [
    "All three cases will give the same output"
   ]
  },
  {
   "cell_type": "markdown",
   "id": "1782e418",
   "metadata": {},
   "source": [
    "Question 12"
   ]
  },
  {
   "cell_type": "code",
   "execution_count": 14,
   "id": "6ed5b795",
   "metadata": {},
   "outputs": [
    {
     "name": "stdout",
     "output_type": "stream",
     "text": [
      "1\n",
      "2\n",
      "3\n",
      "4\n",
      "5\n",
      "6\n",
      "7\n",
      "8\n",
      "9\n"
     ]
    }
   ],
   "source": [
    "#For Loop\n",
    "for i in range(1,10):\n",
    "    print(i)"
   ]
  },
  {
   "cell_type": "code",
   "execution_count": 15,
   "id": "7cf7f87c",
   "metadata": {},
   "outputs": [
    {
     "name": "stdout",
     "output_type": "stream",
     "text": [
      "1\n",
      "2\n",
      "3\n",
      "4\n",
      "5\n",
      "6\n",
      "7\n",
      "8\n",
      "9\n"
     ]
    }
   ],
   "source": [
    "#While loop\n",
    "i=1\n",
    "while i<10:\n",
    "    print(i)\n",
    "    i+=1\n",
    "    "
   ]
  },
  {
   "cell_type": "markdown",
   "id": "7473125e",
   "metadata": {},
   "source": [
    "Question 13"
   ]
  },
  {
   "cell_type": "markdown",
   "id": "6782f06f",
   "metadata": {},
   "source": [
    "If Spam is the name of the module and bacon is the function\n",
    "we can call the function as spam.bacon()"
   ]
  }
 ],
 "metadata": {
  "kernelspec": {
   "display_name": "Python 3",
   "language": "python",
   "name": "python3"
  },
  "language_info": {
   "codemirror_mode": {
    "name": "ipython",
    "version": 3
   },
   "file_extension": ".py",
   "mimetype": "text/x-python",
   "name": "python",
   "nbconvert_exporter": "python",
   "pygments_lexer": "ipython3",
   "version": "3.8.8"
  }
 },
 "nbformat": 4,
 "nbformat_minor": 5
}
